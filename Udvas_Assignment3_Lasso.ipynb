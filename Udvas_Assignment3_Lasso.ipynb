{
 "cells": [
  {
   "cell_type": "markdown",
   "id": "b77a3c75",
   "metadata": {},
   "source": [
    "# IMPORTING LIBRARIES"
   ]
  },
  {
   "cell_type": "code",
   "execution_count": 87,
   "id": "d56114fb",
   "metadata": {},
   "outputs": [],
   "source": [
    "import numpy as np\n",
    "from matplotlib import pyplot as plt\n",
    "import pandas as pd"
   ]
  },
  {
   "cell_type": "markdown",
   "id": "ecf723d6",
   "metadata": {},
   "source": [
    "# IMPORTING THE DATA"
   ]
  },
  {
   "cell_type": "code",
   "execution_count": 68,
   "id": "e0761892",
   "metadata": {},
   "outputs": [
    {
     "data": {
      "text/html": [
       "<div>\n",
       "<style scoped>\n",
       "    .dataframe tbody tr th:only-of-type {\n",
       "        vertical-align: middle;\n",
       "    }\n",
       "\n",
       "    .dataframe tbody tr th {\n",
       "        vertical-align: top;\n",
       "    }\n",
       "\n",
       "    .dataframe thead th {\n",
       "        text-align: right;\n",
       "    }\n",
       "</style>\n",
       "<table border=\"1\" class=\"dataframe\">\n",
       "  <thead>\n",
       "    <tr style=\"text-align: right;\">\n",
       "      <th></th>\n",
       "      <th>x</th>\n",
       "      <th>y</th>\n",
       "      <th>labels</th>\n",
       "    </tr>\n",
       "  </thead>\n",
       "  <tbody>\n",
       "    <tr>\n",
       "      <th>0</th>\n",
       "      <td>2.580645</td>\n",
       "      <td>6.361775</td>\n",
       "      <td>1.0</td>\n",
       "    </tr>\n",
       "    <tr>\n",
       "      <th>1</th>\n",
       "      <td>2.721774</td>\n",
       "      <td>6.680801</td>\n",
       "      <td>1.0</td>\n",
       "    </tr>\n",
       "    <tr>\n",
       "      <th>2</th>\n",
       "      <td>3.084677</td>\n",
       "      <td>7.757514</td>\n",
       "      <td>1.0</td>\n",
       "    </tr>\n",
       "    <tr>\n",
       "      <th>3</th>\n",
       "      <td>3.608871</td>\n",
       "      <td>8.275931</td>\n",
       "      <td>1.0</td>\n",
       "    </tr>\n",
       "    <tr>\n",
       "      <th>4</th>\n",
       "      <td>3.810484</td>\n",
       "      <td>7.797392</td>\n",
       "      <td>1.0</td>\n",
       "    </tr>\n",
       "  </tbody>\n",
       "</table>\n",
       "</div>"
      ],
      "text/plain": [
       "          x         y  labels\n",
       "0  2.580645  6.361775     1.0\n",
       "1  2.721774  6.680801     1.0\n",
       "2  3.084677  7.757514     1.0\n",
       "3  3.608871  8.275931     1.0\n",
       "4  3.810484  7.797392     1.0"
      ]
     },
     "execution_count": 68,
     "metadata": {},
     "output_type": "execute_result"
    }
   ],
   "source": [
    "data = pd.read_csv(\"D:/RKMVERI MSc BDA/SEM 2/ML/ASSIGNMENTS/Assignment 3/data2.csv\")\n",
    "X = np.asarray(data[\"x\"])\n",
    "y = np.asarray(data[\"y\"])\n",
    "data.head()"
   ]
  },
  {
   "cell_type": "markdown",
   "id": "cf4beeda",
   "metadata": {},
   "source": [
    "# Function for preparing the data matrix"
   ]
  },
  {
   "cell_type": "code",
   "execution_count": 69,
   "id": "74dc8d76",
   "metadata": {},
   "outputs": [],
   "source": [
    "def DataMatrix(highest_power):\n",
    "    data_df = pd.DataFrame(list(np.ones(len(X))))\n",
    "    for i in range(1,highest_power+1):\n",
    "        data_df[\"x\"+\"^\"+str(i)] = np.array(X**i)\n",
    "    return np.matrix(data_df)"
   ]
  },
  {
   "cell_type": "markdown",
   "id": "d54e0986",
   "metadata": {},
   "source": [
    "# Function for estimating the parameter"
   ]
  },
  {
   "cell_type": "code",
   "execution_count": 71,
   "id": "c0fc6626",
   "metadata": {},
   "outputs": [],
   "source": [
    "def Parameter_estimation(x,y,Lambda):\n",
    "    xx = x.T@x\n",
    "    shape = xx.shape\n",
    "    penalty = Lambda*np.ones(shape)\n",
    "    w = np.linalg.inv(xx+penalty)@x.T@y\n",
    "    return np.array(w).flatten()"
   ]
  },
  {
   "cell_type": "markdown",
   "id": "184cc9e4",
   "metadata": {},
   "source": [
    "# Prediction function"
   ]
  },
  {
   "cell_type": "code",
   "execution_count": 72,
   "id": "32372b85",
   "metadata": {},
   "outputs": [],
   "source": [
    "def Prediction(w):\n",
    "    yy = w@x1.T\n",
    "    y_pred = np.array(yy).flatten()\n",
    "    sse = np.sum(np.square(y-y_pred))\n",
    "    return sse"
   ]
  },
  {
   "cell_type": "markdown",
   "id": "74dd10ab",
   "metadata": {},
   "source": [
    "# Setting the panalty for LASSO "
   ]
  },
  {
   "cell_type": "code",
   "execution_count": 74,
   "id": "80a769a1",
   "metadata": {},
   "outputs": [
    {
     "name": "stdout",
     "output_type": "stream",
     "text": [
      "Choose the value of lambda:0.9\n"
     ]
    }
   ],
   "source": [
    "Lambda = float(input(\"Choose the value of lambda:\"))"
   ]
  },
  {
   "cell_type": "markdown",
   "id": "a3c472d2",
   "metadata": {},
   "source": [
    "# Fitting the data by different degree of polynomials and calculating the SSE"
   ]
  },
  {
   "cell_type": "code",
   "execution_count": 75,
   "id": "ba8439b8",
   "metadata": {},
   "outputs": [],
   "source": [
    "SSE = []\n",
    "for i in range(1,11):\n",
    "    x1 = DataMatrix(i)\n",
    "    w1 = Parameter_estimation(x1,y,Lambda)\n",
    "    SSE.append(Prediction(w1))"
   ]
  },
  {
   "cell_type": "markdown",
   "id": "0b3e3a9a",
   "metadata": {},
   "source": [
    "# The dataframe showing the SSE corresponding to different degree"
   ]
  },
  {
   "cell_type": "code",
   "execution_count": 86,
   "id": "4e3e5f92",
   "metadata": {},
   "outputs": [
    {
     "data": {
      "text/html": [
       "<div>\n",
       "<style scoped>\n",
       "    .dataframe tbody tr th:only-of-type {\n",
       "        vertical-align: middle;\n",
       "    }\n",
       "\n",
       "    .dataframe tbody tr th {\n",
       "        vertical-align: top;\n",
       "    }\n",
       "\n",
       "    .dataframe thead th {\n",
       "        text-align: right;\n",
       "    }\n",
       "</style>\n",
       "<table border=\"1\" class=\"dataframe\">\n",
       "  <thead>\n",
       "    <tr style=\"text-align: right;\">\n",
       "      <th></th>\n",
       "      <th>SSE</th>\n",
       "    </tr>\n",
       "  </thead>\n",
       "  <tbody>\n",
       "    <tr>\n",
       "      <th>1</th>\n",
       "      <td>469.591019</td>\n",
       "    </tr>\n",
       "    <tr>\n",
       "      <th>2</th>\n",
       "      <td>436.004433</td>\n",
       "    </tr>\n",
       "    <tr>\n",
       "      <th>3</th>\n",
       "      <td>400.405923</td>\n",
       "    </tr>\n",
       "    <tr>\n",
       "      <th>4</th>\n",
       "      <td>353.569604</td>\n",
       "    </tr>\n",
       "    <tr>\n",
       "      <th>5</th>\n",
       "      <td>328.976573</td>\n",
       "    </tr>\n",
       "    <tr>\n",
       "      <th>6</th>\n",
       "      <td>324.619431</td>\n",
       "    </tr>\n",
       "    <tr>\n",
       "      <th>7</th>\n",
       "      <td>272.811349</td>\n",
       "    </tr>\n",
       "    <tr>\n",
       "      <th>8</th>\n",
       "      <td>241.874432</td>\n",
       "    </tr>\n",
       "    <tr>\n",
       "      <th>9</th>\n",
       "      <td>215.525300</td>\n",
       "    </tr>\n",
       "    <tr>\n",
       "      <th>10</th>\n",
       "      <td>171.933511</td>\n",
       "    </tr>\n",
       "  </tbody>\n",
       "</table>\n",
       "</div>"
      ],
      "text/plain": [
       "           SSE\n",
       "1   469.591019\n",
       "2   436.004433\n",
       "3   400.405923\n",
       "4   353.569604\n",
       "5   328.976573\n",
       "6   324.619431\n",
       "7   272.811349\n",
       "8   241.874432\n",
       "9   215.525300\n",
       "10  171.933511"
      ]
     },
     "execution_count": 86,
     "metadata": {},
     "output_type": "execute_result"
    }
   ],
   "source": [
    "Power_of_x = list(range(1,11))\n",
    "df = pd.DataFrame(SSE,Power_of_x)\n",
    "df.columns = [\"SSE\"]\n",
    "df"
   ]
  },
  {
   "cell_type": "markdown",
   "id": "1e49c348",
   "metadata": {},
   "source": [
    "# Visualizing the best fitted polynomial"
   ]
  },
  {
   "cell_type": "code",
   "execution_count": 78,
   "id": "7f01bb61",
   "metadata": {},
   "outputs": [
    {
     "data": {
      "text/plain": [
       "[<matplotlib.lines.Line2D at 0x2d0b7993b80>]"
      ]
     },
     "execution_count": 78,
     "metadata": {},
     "output_type": "execute_result"
    },
    {
     "data": {
      "image/png": "[encoded data removed]",
      "text/plain": [
       "<Figure size 432x288 with 1 Axes>"
      ]
     },
     "metadata": {
      "needs_background": "light"
     },
     "output_type": "display_data"
    }
   ],
   "source": [
    "plt.rcParams[\"figure.autolayout\"] = True\n",
    "plt.plot(X, y, 'r*')\n",
    "dat = DataMatrix(10)\n",
    "w_best = Parameter_estimation(dat,y,Lambda)\n",
    "x_ = np.linspace(2,30,100)\n",
    "y_ = [0]*100\n",
    "for i in range(len(x_)):\n",
    "    a = 0\n",
    "    for j in range(10+1):\n",
    "        a = a+ (w_best[j]*(x_[i]**j))\n",
    "    y_[i] = a\n",
    "plt.plot(x_, y_)"
   ]
  },
  {
   "cell_type": "code",
   "execution_count": null,
   "id": "f68ac286",
   "metadata": {},
   "outputs": [],
   "source": []
  }
 ],
 "metadata": {
  "kernelspec": {
   "display_name": "Python 3",
   "language": "python",
   "name": "python3"
  },
  "language_info": {
   "codemirror_mode": {
    "name": "ipython",
    "version": 3
   },
   "file_extension": ".py",
   "mimetype": "text/x-python",
   "name": "python",
   "nbconvert_exporter": "python",
   "pygments_lexer": "ipython3",
   "version": "3.8.8"
  }
 },
 "nbformat": 4,
 "nbformat_minor": 5
}
